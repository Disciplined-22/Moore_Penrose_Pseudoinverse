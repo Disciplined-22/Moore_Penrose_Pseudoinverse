{
  "nbformat": 4,
  "nbformat_minor": 0,
  "metadata": {
    "colab": {
      "provenance": [],
      "authorship_tag": "ABX9TyNjTBV3VKFXbOoEj3jB9QxM",
      "include_colab_link": true
    },
    "kernelspec": {
      "name": "python3",
      "display_name": "Python 3"
    },
    "language_info": {
      "name": "python"
    }
  },
  "cells": [
    {
      "cell_type": "markdown",
      "metadata": {
        "id": "view-in-github",
        "colab_type": "text"
      },
      "source": [
        "<a href=\"https://colab.research.google.com/github/Disciplined-22/Moore_Penrose_Pseudoinverse/blob/main/Moore_Penrose_Pseudoinverse.ipynb\" target=\"_parent\"><img src=\"https://colab.research.google.com/assets/colab-badge.svg\" alt=\"Open In Colab\"/></a>"
      ]
    },
    {
      "cell_type": "code",
      "source": [
        "!pip install numpy\n",
        "import numpy as np"
      ],
      "metadata": {
        "colab": {
          "base_uri": "https://localhost:8080/"
        },
        "id": "97Yj8fUxvBBj",
        "outputId": "24a2d9c4-60b1-4dd7-8559-f17a5e0ab63b"
      },
      "execution_count": null,
      "outputs": [
        {
          "output_type": "stream",
          "name": "stdout",
          "text": [
            "Requirement already satisfied: numpy in /usr/local/lib/python3.10/dist-packages (1.23.5)\n"
          ]
        }
      ]
    },
    {
      "cell_type": "code",
      "source": [
        "#This is an made up data for understanding\n",
        "\n",
        "x1 = [0, 1, 2, 3, 4, 5, 6, 7.] # E.g.: Dosage of drug for treating Alzheimer's disease\n",
        "y = np.array([2.0, 1.5, 1.0, 0.5, 0.0, -0.5, -1.0, -1.5]) # E.g.: Patient's \"forgetfulness score\"\n"
      ],
      "metadata": {
        "id": "eC7114fe6_go"
      },
      "execution_count": null,
      "outputs": []
    },
    {
      "cell_type": "code",
      "source": [
        "title = 'Clinical Trial'\n",
        "xlabel = 'Drug dosage (mL)'\n",
        "ylabel = 'Forgetfulness'"
      ],
      "metadata": {
        "id": "T_WlTDed7GkN"
      },
      "execution_count": null,
      "outputs": []
    },
    {
      "cell_type": "code",
      "source": [
        "\n",
        "# Create a figure and axis for the plot\n",
        "\n",
        "import matplotlib.pyplot as plt\n",
        "\n",
        "fig, ax = plt.subplots()\n",
        "plt.title(title)\n",
        "plt.xlabel(xlabel)\n",
        "plt.ylabel(ylabel)\n",
        "_ = ax.scatter(x1, y)"
      ],
      "metadata": {
        "colab": {
          "base_uri": "https://localhost:8080/",
          "height": 472
        },
        "id": "oqMf7kmo7IYY",
        "outputId": "24511b33-a52e-4ff3-94d3-649cdceb1ded"
      },
      "execution_count": null,
      "outputs": [
        {
          "output_type": "display_data",
          "data": {
            "text/plain": [
              "<Figure size 640x480 with 1 Axes>"
            ],
            "image/png": "[encoded data removed]"
          },
          "metadata": {}
        }
      ]
    },
    {
      "cell_type": "code",
      "source": [
        "# Creating a NumPy array 'x0' with 8 elements, all set to 1\n",
        "x0 = np.ones(8)\n",
        "x0"
      ],
      "metadata": {
        "colab": {
          "base_uri": "https://localhost:8080/"
        },
        "id": "ozwy_an07OF0",
        "outputId": "b5051702-a939-4957-e78c-0cc106d820b2"
      },
      "execution_count": null,
      "outputs": [
        {
          "output_type": "execute_result",
          "data": {
            "text/plain": [
              "array([1., 1., 1., 1., 1., 1., 1., 1.])"
            ]
          },
          "metadata": {},
          "execution_count": 73
        }
      ]
    },
    {
      "cell_type": "code",
      "source": [
        "# Concatenate the matrices x0 and x1 along the columns to create the feature matrix X\n",
        "\n",
        "X = np.concatenate((np.matrix(x0).T, np.matrix(x1).T), axis=1)\n",
        "X"
      ],
      "metadata": {
        "colab": {
          "base_uri": "https://localhost:8080/"
        },
        "id": "Z-iGyv6Q7Pjk",
        "outputId": "3e69efce-dd1d-47bc-9375-4f895eb83a72"
      },
      "execution_count": null,
      "outputs": [
        {
          "output_type": "execute_result",
          "data": {
            "text/plain": [
              "matrix([[1., 0.],\n",
              "        [1., 1.],\n",
              "        [1., 2.],\n",
              "        [1., 3.],\n",
              "        [1., 4.],\n",
              "        [1., 5.],\n",
              "        [1., 6.],\n",
              "        [1., 7.]])"
            ]
          },
          "metadata": {},
          "execution_count": 74
        }
      ]
    },
    {
      "cell_type": "code",
      "source": [
        "# Calculate the pseudo-inverse of the matrix X using np.linalg.pinv\n",
        "# and then compute the dot product with the vector y to obtain the weight vector w\n",
        "\n",
        "w = np.dot(np.linalg.pinv(X), y)\n",
        "w"
      ],
      "metadata": {
        "colab": {
          "base_uri": "https://localhost:8080/"
        },
        "id": "FH5uhih07ZE9",
        "outputId": "5a95938c-77aa-4f71-b986-cc357a72a3da"
      },
      "execution_count": null,
      "outputs": [
        {
          "output_type": "execute_result",
          "data": {
            "text/plain": [
              "matrix([[ 2. , -0.5]])"
            ]
          },
          "metadata": {},
          "execution_count": 75
        }
      ]
    },
    {
      "cell_type": "code",
      "source": [
        "b = np.asarray(w).reshape(-1)[0]\n",
        "b"
      ],
      "metadata": {
        "colab": {
          "base_uri": "https://localhost:8080/"
        },
        "id": "8a4VA8Kw7odY",
        "outputId": "42737dee-4b43-4ba6-fa1d-7225a53a07e1"
      },
      "execution_count": null,
      "outputs": [
        {
          "output_type": "execute_result",
          "data": {
            "text/plain": [
              "1.999999999999998"
            ]
          },
          "metadata": {},
          "execution_count": 79
        }
      ]
    },
    {
      "cell_type": "code",
      "source": [
        "m = np.asarray(w).reshape(-1)[1]\n",
        "m"
      ],
      "metadata": {
        "colab": {
          "base_uri": "https://localhost:8080/"
        },
        "id": "_JuCojsy7qRB",
        "outputId": "d3f6cfc4-a14e-4d6b-b4b2-d21d5139824f"
      },
      "execution_count": null,
      "outputs": [
        {
          "output_type": "execute_result",
          "data": {
            "text/plain": [
              "-0.49999999999999967"
            ]
          },
          "metadata": {},
          "execution_count": 80
        }
      ]
    },
    {
      "cell_type": "code",
      "source": [
        "# Create a scatter plot\n",
        "\n",
        "fig, ax = plt.subplots()\n",
        "\n",
        "plt.title(title)\n",
        "plt.xlabel(xlabel)\n",
        "plt.ylabel(ylabel)\n",
        "\n",
        "ax.scatter(x1, y)\n",
        "\n",
        "x_min, x_max = ax.get_xlim()\n",
        "y_at_xmin = m*x_min + b\n",
        "y_at_xmax = m*x_max + b\n",
        "\n",
        "ax.set_xlim([x_min, x_max])\n",
        "_ = ax.plot([x_min, x_max], [y_at_xmin, y_at_xmax], c='C01')"
      ],
      "metadata": {
        "colab": {
          "base_uri": "https://localhost:8080/",
          "height": 472
        },
        "id": "cKJ557Gn7siA",
        "outputId": "0eb8ddfe-df25-4204-c412-818e78a62651"
      },
      "execution_count": null,
      "outputs": [
        {
          "output_type": "display_data",
          "data": {
            "text/plain": [
              "<Figure size 640x480 with 1 Axes>"
            ],
            "image/png": "[encoded data removed]"
          },
          "metadata": {}
        }
      ]
    },
    {
      "cell_type": "markdown",
      "source": [
        "*Conclusion*\n",
        "\n",
        "Finally, the regression line is plotted using the obtained coefficients.\n",
        "\n",
        "This method minimizes the sum of squared differences between the observed and predicted values, providing a best-fit line through the given data points.\n"
      ],
      "metadata": {
        "id": "ZtgeI8_rZaZC"
      }
    }
  ]
}